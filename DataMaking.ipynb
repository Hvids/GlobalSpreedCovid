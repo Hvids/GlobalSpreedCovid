{
 "cells": [
  {
   "cell_type": "code",
   "execution_count": 58,
   "metadata": {},
   "outputs": [],
   "source": [
    "import pandas as pd"
   ]
  },
  {
   "cell_type": "code",
   "execution_count": 59,
   "metadata": {},
   "outputs": [],
   "source": [
    "path_time_series = './data/COVID-19_plus_Russia/csse_covid_19_data/csse_covid_19_time_series/'"
   ]
  },
  {
   "cell_type": "code",
   "execution_count": 60,
   "metadata": {},
   "outputs": [],
   "source": [
    "recovered_global_name = 'time_series_covid19_recovered_global.csv'\n",
    "recovered_ru_name = 'time_series_covid19_confirmed_RU.csv'\n",
    "deaths_global_name = 'time_series_covid19_deaths_global.csv'\n",
    "deaths_ru_name = 'time_series_covid19_deaths_RU.csv'"
   ]
  },
  {
   "cell_type": "code",
   "execution_count": 61,
   "metadata": {},
   "outputs": [],
   "source": [
    "path = './data/'\n",
    "countries_data_name = 'countries.csv'\n",
    "russia_regions_name = 'russia_regions.csv'"
   ]
  },
  {
   "cell_type": "code",
   "execution_count": 94,
   "metadata": {},
   "outputs": [],
   "source": [
    "class Data:\n",
    "    def __init__(self,countries_data,russia_regions_data):\n",
    "        \n",
    "        self.__set_countries_name_iso(countries_data)\n",
    "        self.__set_russia_regions_name_iso(russia_regions)\n",
    "    \n",
    "    \n",
    "    def make_global_data(self,global_data_recivered,global_data_deaths):\n",
    "        self.__global_data = {}\n",
    "        date = global_data_recivered.columns[4:]\n",
    "        for recovered,deaths in zip(global_data_recivered.iterrows(), global_data_deaths.iterrows()):\n",
    "            try:\n",
    "                _,row_recovered = recovered\n",
    "                _,row_deaths = deaths\n",
    "                countrie_name = row_recovered['Country/Region']\n",
    "                iso = self.__countries_name_iso[countrie_name]\n",
    "                values_recovered = row_recovered[date].values\n",
    "                values_deaths = row_deaths[date].values\n",
    "                self.__global_data[iso] = {}\n",
    "                self.__global_data[iso]['date'] = pd.to_datetime(date).values\n",
    "                self.__global_data[iso]['values_recovered'] = values_recovered\n",
    "                self.__global_data[iso]['values_deaths'] = values_deaths \n",
    "            except:\n",
    "                continue\n",
    "            \n",
    "    def make_russia_regions(self,russia_regions_recovered_data,russia_regions_deaths_data):\n",
    "        self.__russia_regions_data = {}\n",
    "        date = russia_regions_recovered_data.columns[12:]\n",
    "        for recovered,deaths in zip(russia_regions_recovered_data.iterrows(), russia_regions_deaths_data.iterrows()):\n",
    "            _,row_recovered = recovered\n",
    "            _,row_deaths = deaths\n",
    "            name = row_recovered['Province_State']\n",
    "            iso = self.__russia_regions_name_iso[name]\n",
    "            values_recovered = row_recovered[date].values\n",
    "            values_deaths = row_deaths[date].values\n",
    "            self.__russia_regions_data[iso] = {}\n",
    "            self.__russia_regions_data[iso]['date'] = pd.to_datetime(date).values\n",
    "            self.__russia_regions_data[iso]['values_recovered'] = values_recovered\n",
    "            self.__russia_regions_data[iso]['values_deaths'] = values_deaths \n",
    "            \n",
    "        \n",
    "    \n",
    "    def __set_countries_name_iso(self,countries_data):\n",
    "        self.__countries_name_iso = {}\n",
    "        self.__countries_iso = []\n",
    "        for i, row in countries_data.iterrows():\n",
    "            self.__countries_name_iso[row['ccse_name']] = row['iso_alpha3']\n",
    "            self.__countries_iso.append(row['iso_alpha3'])\n",
    "#         print(self.__countries_name_iso_alpha3)\n",
    "    def __set_russia_regions_name_iso(self, russia_regions):\n",
    "        self.__russia_regions_name_iso = {}\n",
    "        self.__russa_regoins_iso = []\n",
    "        for i, row in russia_regions.iterrows():\n",
    "            self.__russia_regions_name_iso[row['csse_province_state']] = row['iso_code']\n",
    "            self.__russa_regoins_iso.append(row['iso_code'])\n",
    "#         print(self.__russia_regions_name_iso)"
   ]
  },
  {
   "cell_type": "code",
   "execution_count": 95,
   "metadata": {},
   "outputs": [],
   "source": [
    "countries_data = pd.read_csv(path + countries_data_name)\n",
    "russia_regions = pd.read_csv(path + russia_regions_name)\n",
    "deaths_global= pd.read_csv(path_time_series+deaths_global_name)\n",
    "recovered_global= pd.read_csv(path_time_series+recovered_global_name)\n",
    "recovered_ru = pd.read_csv(path_time_series+ recovered_ru_name)\n",
    "deaths_ru = pd.read_csv(path_time_series + deaths_ru_name)"
   ]
  },
  {
   "cell_type": "code",
   "execution_count": 96,
   "metadata": {},
   "outputs": [],
   "source": [
    "recovered_ru['Province_State'] = russia_regions['csse_province_state'].values\n",
    "deaths_ru['Province_State'] = russia_regions['csse_province_state'].values"
   ]
  },
  {
   "cell_type": "code",
   "execution_count": 97,
   "metadata": {},
   "outputs": [],
   "source": [
    "maker_data = Data(countries_data,russia_regions)\n",
    "maker_data.make_global_data(recovered_global,deaths_global)\n",
    "maker_data.make_russia_regions(recovered_ru,deaths_ru)"
   ]
  },
  {
   "cell_type": "code",
   "execution_count": null,
   "metadata": {},
   "outputs": [],
   "source": []
  },
  {
   "cell_type": "code",
   "execution_count": null,
   "metadata": {},
   "outputs": [],
   "source": []
  }
 ],
 "metadata": {
  "kernelspec": {
   "display_name": "Python 3",
   "language": "python",
   "name": "python3"
  },
  "language_info": {
   "codemirror_mode": {
    "name": "ipython",
    "version": 3
   },
   "file_extension": ".py",
   "mimetype": "text/x-python",
   "name": "python",
   "nbconvert_exporter": "python",
   "pygments_lexer": "ipython3",
   "version": "3.7.3"
  }
 },
 "nbformat": 4,
 "nbformat_minor": 2
}
